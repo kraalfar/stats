{
 "cells": [
  {
   "cell_type": "markdown",
   "metadata": {},
   "source": [
    "## Домашнее задание №2\n",
    "# Багиров Фарид\n"
   ]
  },
  {
   "cell_type": "markdown",
   "metadata": {},
   "source": [
    "* Равномерное распределение\n",
    "\n",
    "$\\frac1n\\sum X_i^k=E_\\theta X^k = \\frac1\\theta\\int\\limits_0^\\theta x^k dx = \\frac{\\theta^k}{k+1}$\n",
    "\n",
    "Откуда получаем оценку $\\theta = \\left(\\frac{k+1}{n}\\sum X_i^k\\right)^{\\frac 1k}$.\n",
    "\n",
    "Теперь остается только все посчитать."
   ]
  },
  {
   "cell_type": "code",
   "execution_count": 28,
   "metadata": {},
   "outputs": [],
   "source": [
    "%matplotlib inline \n",
    "import numpy as np\n",
    "import matplotlib.pyplot as plt\n",
    "from ipywidgets import interact, interactive, fixed\n",
    "import ipywidgets as widgets"
   ]
  },
  {
   "cell_type": "code",
   "execution_count": 46,
   "metadata": {},
   "outputs": [],
   "source": [
    "#массив k\n",
    "ks = np.arange(1,300, 3)"
   ]
  },
  {
   "cell_type": "code",
   "execution_count": 47,
   "metadata": {},
   "outputs": [],
   "source": [
    "def mle_uniform(n, k, uni):\n",
    "    \"\"\"\n",
    "    params:\n",
    "        n - размер выборки\n",
    "        k - степень для метода моментов\n",
    "        uni - генератор распределения\n",
    "    returns:\n",
    "        teta - оценка парметра равномерного распределения, посчитанная методом моментов\n",
    "    \"\"\"\n",
    "    x = uni(n)\n",
    "    teta = sum(x**k)/n*(k+1)\n",
    "    teta = teta**(1/k)\n",
    "    return teta"
   ]
  },
  {
   "cell_type": "code",
   "execution_count": 48,
   "metadata": {},
   "outputs": [],
   "source": [
    "#генерация равномерного распределения\n",
    "def uniform(theta):\n",
    "    def unif(size):\n",
    "        return np.random.uniform(0, theta, size)\n",
    "    return unif"
   ]
  },
  {
   "cell_type": "code",
   "execution_count": 122,
   "metadata": {},
   "outputs": [],
   "source": [
    "#построение графика\n",
    "def uniplot(theta, n, ne):\n",
    "    \"\"\"\n",
    "    Строит график для массива ks среднего квадратичного отклонения для \n",
    "    равномерного распределения с параметром theta.\n",
    "    params:\n",
    "        theta - параметр равномерного распределения\n",
    "        n - размер выборки, по которым считается оценка параметра\n",
    "        ne - число выборок, которые исследуются\n",
    "    \"\"\"\n",
    "    u = uniform(theta)\n",
    "    ers = np.zeros(len(ks))\n",
    "    for i in range(ne):\n",
    "        for i, k in enumerate(ks):\n",
    "            ers[i] += ((mle_uniform(n, k, u) - theta)**2) / ne\n",
    "    plt.plot(ks, ers)\n",
    "    plt.yscale(\"log\")\n",
    "    plt.xlabel(\"k\")\n",
    "    plt.ylabel(r\"$\\log~$RMS\")"
   ]
  },
  {
   "cell_type": "markdown",
   "metadata": {},
   "source": [
    "Ниже строятся графики зависимости среднего квадратичного отклонения от $k$. Графики интерактивные, параметры можно менять (как минимум в jupyter точно можно). "
   ]
  },
  {
   "cell_type": "code",
   "execution_count": 121,
   "metadata": {
    "scrolled": false
   },
   "outputs": [
    {
     "data": {
      "application/vnd.jupyter.widget-view+json": {
       "model_id": "4835caa4084f403290e303453dd50b71",
       "version_major": 2,
       "version_minor": 0
      },
      "text/plain": [
       "interactive(children=(IntSlider(value=5, description='theta', max=10, min=1), Dropdown(description='n', option…"
      ]
     },
     "metadata": {},
     "output_type": "display_data"
    },
    {
     "data": {
      "text/plain": [
       "<function __main__.uniplot(theta, n, ne, flag=False)>"
      ]
     },
     "execution_count": 121,
     "metadata": {},
     "output_type": "execute_result"
    }
   ],
   "source": [
    "interact(uniplot, theta=(1, 10, 1), n=[10, 100, 1000], ne=[10, 100, 1000])"
   ]
  },
  {
   "cell_type": "markdown",
   "metadata": {},
   "source": [
    "Пример одного графика для $\\theta = 6, n=1000, ne=1000$."
   ]
  },
  {
   "cell_type": "code",
   "execution_count": 123,
   "metadata": {},
   "outputs": [
    {
     "data": {
      "image/png": "[encoded data removed]",
      "text/plain": [
       "<Figure size 432x288 with 1 Axes>"
      ]
     },
     "metadata": {
      "needs_background": "light"
     },
     "output_type": "display_data"
    }
   ],
   "source": [
    "uniplot(6,1000,1000)"
   ]
  },
  {
   "cell_type": "markdown",
   "metadata": {},
   "source": [
    "Вывод"
   ]
  },
  {
   "cell_type": "markdown",
   "metadata": {},
   "source": [
    "Первое, что видно, что при увеличении $k$ погрешность уменьшается. Так же видно, что чем больше $\\theta$, тем больше погрешность, как и должно быть, потому что весь масштаб увеличивается, а мы считаем абсолютную погрешность, которая зависит от масштаба. Теперь про размер выборки - чем больше, тем лучше и это и видно на графиках (на 10 какой-то сплошной шум, а на 1000 уже все хорошо уменьшается). Для $ne$ же, чем оно больше, тем более гладким выглядит график - на саму погрешность она не влияется."
   ]
  },
  {
   "cell_type": "markdown",
   "metadata": {},
   "source": [
    "* Экспоненциальное распределение\n",
    "\n",
    "$\\frac1n\\sum X_i^k=E_\\theta X^k = \\theta\\int\\limits_0^\\infty x^k e^{-\\theta x} dx = \\theta^{-k}\\int\\limits_0^\\infty x^k e^{-x} dx=\\theta^{-k} \\Gamma(k+1) =\\theta^{-k} k!$\n",
    "\n",
    "Откуда получаем оценку $\\theta = \\left(\\frac{1}{nk!}\\sum X_i^k\\right)^{-\\frac 1k}$.\n",
    "\n",
    "Теперь остается только все посчитать."
   ]
  },
  {
   "cell_type": "code",
   "execution_count": 114,
   "metadata": {},
   "outputs": [],
   "source": [
    "#массив k\n",
    "km = 30\n",
    "ks = np.arange(1,km, 1)\n",
    "kf = np.ones(km)\n",
    "for i in range(1, km):\n",
    "    kf[i] = int((i+1)*kf[i-1])"
   ]
  },
  {
   "cell_type": "code",
   "execution_count": 108,
   "metadata": {},
   "outputs": [],
   "source": [
    "def mle_exp(n, k, exp):\n",
    "    \"\"\"\n",
    "    params:\n",
    "        n - размер выборки\n",
    "        k - степень для метода моментов\n",
    "        exp - генератор распределения\n",
    "    returns:\n",
    "        teta - оценка парметра экспоненциального распределения, посчитанная методом моментов\n",
    "    \"\"\"\n",
    "    x = exp(n)\n",
    "    teta = sum(x**k)/n/kf[k-1]\n",
    "    teta = teta**(-1/k)\n",
    "    return teta"
   ]
  },
  {
   "cell_type": "code",
   "execution_count": 109,
   "metadata": {},
   "outputs": [],
   "source": [
    "#генерация экспоненциального распределения\n",
    "def expo(theta):\n",
    "    def expf(size):\n",
    "        return np.random.exponential(1/theta, size)\n",
    "    return expf"
   ]
  },
  {
   "cell_type": "code",
   "execution_count": 117,
   "metadata": {},
   "outputs": [],
   "source": [
    "#построение графика\n",
    "def c:\n",
    "    \"\"\"\n",
    "    Строит график для массива ks среднего квадратичного отклонения для \n",
    "    экспоненциального распределения с параметром theta.\n",
    "    params:\n",
    "        theta - параметр экспоненциального распределения\n",
    "        n - размер выборки, по которым считается оценка параметра\n",
    "        ne - число выборок, которые исследуются\n",
    "    \"\"\"\n",
    "    e = expo(theta)\n",
    "    ers = np.zeros(len(ks))\n",
    "    for i in range(ne):\n",
    "        for i, k in enumerate(ks):\n",
    "            ers[i] += ((mle_exp(n, k, e) - theta)**2) / ne\n",
    "    plt.plot(ks, ers)\n",
    "    plt.yscale(\"log\")\n",
    "    plt.xlabel(\"k\")\n",
    "    plt.ylabel(r\"$\\log~$RMS\")"
   ]
  },
  {
   "cell_type": "markdown",
   "metadata": {},
   "source": [
    "Ниже строятся графики зависимости среднего квадратичного отклонения от $k$. Графики интерактивные, параметры можно менять (как минимум в jupyter точно можно). "
   ]
  },
  {
   "cell_type": "code",
   "execution_count": 119,
   "metadata": {},
   "outputs": [
    {
     "data": {
      "application/vnd.jupyter.widget-view+json": {
       "model_id": "63b1b7c077d94c3ca7dddb714b42faf6",
       "version_major": 2,
       "version_minor": 0
      },
      "text/plain": [
       "interactive(children=(FloatSlider(value=4.8999999999999995, description='theta', max=10.0, min=0.1, step=0.3),…"
      ]
     },
     "metadata": {},
     "output_type": "display_data"
    },
    {
     "data": {
      "text/plain": [
       "<function __main__.expplot(theta, n, ne)>"
      ]
     },
     "execution_count": 119,
     "metadata": {},
     "output_type": "execute_result"
    }
   ],
   "source": [
    "interact(expplot, theta=(0.1, 10, 0.3), n=[10, 100, 1000], ne=[10, 100, 1000])"
   ]
  },
  {
   "cell_type": "markdown",
   "metadata": {},
   "source": [
    "Пример одного графика без интерактива для $\\theta=1, n=1000, ne=1000$"
   ]
  },
  {
   "cell_type": "code",
   "execution_count": 124,
   "metadata": {},
   "outputs": [
    {
     "data": {
      "image/png": "[encoded data removed]",
      "text/plain": [
       "<Figure size 432x288 with 1 Axes>"
      ]
     },
     "metadata": {
      "needs_background": "light"
     },
     "output_type": "display_data"
    }
   ],
   "source": [
    "expplot(1,1000,1000)"
   ]
  },
  {
   "cell_type": "markdown",
   "metadata": {},
   "source": [
    "Вывод"
   ]
  },
  {
   "cell_type": "markdown",
   "metadata": {},
   "source": [
    "Почти все аналогично предыдущему случаю, кроме того, что в этот раз, чем больше $k$, тем больше погрешность."
   ]
  }
 ],
 "metadata": {
  "kernelspec": {
   "display_name": "Python 3",
   "language": "python",
   "name": "python3"
  },
  "language_info": {
   "codemirror_mode": {
    "name": "ipython",
    "version": 3
   },
   "file_extension": ".py",
   "mimetype": "text/x-python",
   "name": "python",
   "nbconvert_exporter": "python",
   "pygments_lexer": "ipython3",
   "version": "3.7.3"
  }
 },
 "nbformat": 4,
 "nbformat_minor": 2
}
